{
  "nbformat": 4,
  "nbformat_minor": 0,
  "metadata": {
    "colab": {
      "provenance": []
    },
    "kernelspec": {
      "name": "python3",
      "display_name": "Python 3"
    },
    "language_info": {
      "name": "python"
    }
  },
  "cells": [
    {
      "cell_type": "code",
      "source": [
        "import numpy as np\n",
        "a1=np.load('dumpher.npy')\n",
        "a1"
      ],
      "metadata": {
        "colab": {
          "base_uri": "https://localhost:8080/"
        },
        "id": "xKa5XDjz24Ad",
        "outputId": "0a9b2ee7-1c2c-4fc8-fbbe-e30a7b5dab6e"
      },
      "execution_count": null,
      "outputs": [
        {
          "output_type": "execute_result",
          "data": {
            "text/plain": [
              "array([('aman', 100, 6.6, 'No'), ('ajay', 120, 7.6, 'Yes'),\n",
              "       ('adani', 110, 8.5, 'Yes')],\n",
              "      dtype=[('name', '<U20'), ('iq', '<i2'), ('cgpa', '<f4'), ('placed', '<U20')])"
            ]
          },
          "metadata": {},
          "execution_count": 1
        }
      ]
    },
    {
      "cell_type": "code",
      "source": [],
      "metadata": {
        "id": "luBP8Uyv3auK"
      },
      "execution_count": null,
      "outputs": []
    }
  ]
}